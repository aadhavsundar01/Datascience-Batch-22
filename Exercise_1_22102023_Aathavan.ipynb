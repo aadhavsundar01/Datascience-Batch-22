{
 "cells": [
  {
   "cell_type": "markdown",
   "id": "5b0687b3",
   "metadata": {},
   "source": [
    "# 1. Write a Python program to count the number of even and odd numbers from a series of numbers."
   ]
  },
  {
   "cell_type": "markdown",
   "id": "3549a082",
   "metadata": {},
   "source": [
    "Number of even numbers : 4\n",
    "Number of odd numbers : 5"
   ]
  },
  {
   "cell_type": "code",
   "execution_count": 2,
   "id": "ebe4bfc9",
   "metadata": {},
   "outputs": [
    {
     "name": "stdout",
     "output_type": "stream",
     "text": [
      "Number of even numbers :  4\n",
      "Number of odd numbers :  5\n"
     ]
    }
   ],
   "source": [
    "numbers = [1,2,3,4,5,6,7,8,9]\n",
    "even = []\n",
    "odd = []\n",
    "for n in numbers:\n",
    "    if n%2 == 0:\n",
    "        even.append(n)\n",
    "    else:\n",
    "        odd.append(n)\n",
    "\n",
    "print(\"Number of even numbers : \",len(even))\n",
    "print(\"Number of odd numbers : \",len(odd))"
   ]
  },
  {
   "cell_type": "markdown",
   "id": "7b17f389",
   "metadata": {},
   "source": [
    "# 2. Write a Python program to find numbers between 100 and 400 (both included) where each digit of a number is an even number. The numbers obtained should be printed in a comma-separated sequence."
   ]
  },
  {
   "cell_type": "markdown",
   "id": "43257f33",
   "metadata": {},
   "source": [
    "200,202,204,206,208,220,222,224,226,228,240,242,244,246,248,260,262,264,266,268,280,282,284,286,288,400"
   ]
  },
  {
   "cell_type": "code",
   "execution_count": 122,
   "id": "ff4c6b22",
   "metadata": {},
   "outputs": [
    {
     "name": "stdout",
     "output_type": "stream",
     "text": [
      "200,202,204,206,208,220,222,224,226,228,240,242,244,246,248,260,262,264,266,268,280,282,284,286,288,400,"
     ]
    }
   ],
   "source": [
    "for r in range(100,401):\n",
    "    if r%2 == 0 and (r//10)%2 == 0 and ((r//100)%2) == 0:\n",
    "            print(r, end = \",\")\n",
    "    else:\n",
    "        pass"
   ]
  },
  {
   "cell_type": "markdown",
   "id": "d9b82f07",
   "metadata": {},
   "source": [
    "# 3. Write a Python program to calculate a dog's age in dog's years. Go to the editor"
   ]
  },
  {
   "cell_type": "markdown",
   "id": "d4414f2f",
   "metadata": {},
   "source": [
    "Note: For the first two years, a dog year is equal to 10.5 human years. After that, each dog year equals 4 human years.\n",
    "Input a dog's age in human years: 20\n",
    "The dog's age in dog's years is 93"
   ]
  },
  {
   "cell_type": "code",
   "execution_count": 42,
   "id": "73d2fe39",
   "metadata": {},
   "outputs": [
    {
     "name": "stdout",
     "output_type": "stream",
     "text": [
      "Input a dog's age in human years: 20\n",
      "The dog's age in dog's years is  93\n"
     ]
    }
   ],
   "source": [
    "n = int(input(\"Input a dog's age in human years: \"))\n",
    "dogAge = int((n-2)*4+2*10.5)\n",
    "print(\"The dog's age in dog's years is \", dogAge)"
   ]
  },
  {
   "cell_type": "markdown",
   "id": "f4b28bb7",
   "metadata": {},
   "source": [
    "# 4. Write a Python function to find the Max of three numbers."
   ]
  },
  {
   "cell_type": "markdown",
   "id": "765c9364",
   "metadata": {},
   "source": [
    "The Three numbers are: (3, 6, -5)\n",
    "6"
   ]
  },
  {
   "cell_type": "code",
   "execution_count": 51,
   "id": "79975f90",
   "metadata": {},
   "outputs": [
    {
     "name": "stdout",
     "output_type": "stream",
     "text": [
      "Enter the numbers: 3,6,-5\n",
      "The Three numbers are:  (3, 6, -5)\n",
      "6\n"
     ]
    }
   ],
   "source": [
    "def maxNumber(numbers):\n",
    "    print(\"The Three numbers are: \", numbers)\n",
    "    print(max(numbers))\n",
    "inp = input(\"Enter the numbers: \")\n",
    "tupleNumbers = tuple(int(i) for i in inp.split(\",\"))\n",
    "maxNumber(tupleNumbers)"
   ]
  },
  {
   "cell_type": "markdown",
   "id": "9c6f29ad",
   "metadata": {},
   "source": [
    "# 5. Write a Python function that takes a number as a parameter and check the number is prime or not."
   ]
  },
  {
   "cell_type": "markdown",
   "id": "c65ba94d",
   "metadata": {},
   "source": [
    "The number is: 9\n",
    "False"
   ]
  },
  {
   "cell_type": "code",
   "execution_count": 62,
   "id": "62800ac2",
   "metadata": {},
   "outputs": [
    {
     "name": "stdout",
     "output_type": "stream",
     "text": [
      "The number is: 9\n"
     ]
    },
    {
     "data": {
      "text/plain": [
       "False"
      ]
     },
     "execution_count": 62,
     "metadata": {},
     "output_type": "execute_result"
    }
   ],
   "source": [
    "def primeCheck(number):\n",
    "    if number == 2 or number == 3 or number == 5 or number == 7:\n",
    "        return True\n",
    "    elif number == 1 or number%2 == 0 or number%3 == 0 or number%5 == 0 or number%7 == 0:\n",
    "        return False\n",
    "    else:\n",
    "        i = 2\n",
    "        while i < number:\n",
    "            if number%i == 0 or number/i == 1:\n",
    "                return False\n",
    "            else:\n",
    "                return True\n",
    "            i+=1\n",
    "            \n",
    "number = int(input(\"The number is: \"))\n",
    "primeCheck(number)"
   ]
  },
  {
   "cell_type": "markdown",
   "id": "663790a0",
   "metadata": {},
   "source": [
    "# 6. Write a Python function that accepts a string and calculate the number of upper case letters and lower case letters. Go to the editor"
   ]
  },
  {
   "cell_type": "markdown",
   "id": "f7e52f43",
   "metadata": {},
   "source": [
    "Original String :  Inceptz is One of The BeSt Places TO LEarn DataSciEnce\n",
    "No. of Upper case characters :  13\n",
    "No. of Lower case Characters :  32"
   ]
  },
  {
   "cell_type": "code",
   "execution_count": 69,
   "id": "7a61fa73",
   "metadata": {},
   "outputs": [
    {
     "name": "stdout",
     "output_type": "stream",
     "text": [
      "Original String : Inceptz is One of The BeSt Places TO LEarn DataSciEnce\n",
      "No. of Upper case characters : 13\n",
      "No. of Lower case characters : 32\n"
     ]
    }
   ],
   "source": [
    "def upperCheck(originalString):\n",
    "    upperc = []\n",
    "    lowerc = []\n",
    "    for char in originalString:\n",
    "        if not char.isspace():\n",
    "            if char == char.upper():\n",
    "                upperc.append(char)\n",
    "            else:\n",
    "                lowerc.append(char)\n",
    "        else:\n",
    "            pass\n",
    "    print(\"No. of Upper case characters :\",len(upperc))\n",
    "    print(\"No. of Lower case characters :\",len(lowerc))\n",
    "    \n",
    "originalString = input(\"Original String : \")\n",
    "upperCheck(originalString)"
   ]
  },
  {
   "cell_type": "markdown",
   "id": "fa04cee0",
   "metadata": {},
   "source": [
    "# 7. Write a Python program to reverse a string."
   ]
  },
  {
   "cell_type": "markdown",
   "id": "3201f2c7",
   "metadata": {},
   "source": [
    "The original string is: 1234abcd\n",
    "The reversed string: dcba4321"
   ]
  },
  {
   "cell_type": "code",
   "execution_count": 85,
   "id": "6b570001",
   "metadata": {},
   "outputs": [
    {
     "name": "stdout",
     "output_type": "stream",
     "text": [
      "The original string is: 1234abcd\n",
      "The reversed string:  dcba4321\n"
     ]
    }
   ],
   "source": [
    "def stringReverse(stringInput):\n",
    "    strList = list(stringInput)\n",
    "    strList.reverse()\n",
    "    reverseString = \"\".join(strList)\n",
    "    print(\"The reversed string: \", reverseString)\n",
    "    \n",
    "stringReverse(input(\"The original string is: \"))    "
   ]
  },
  {
   "cell_type": "markdown",
   "id": "12462a99",
   "metadata": {},
   "source": [
    "# 8. Write a Python program to find the greatest common divisor (gcd) of two integers."
   ]
  },
  {
   "cell_type": "markdown",
   "id": "e827a082",
   "metadata": {},
   "source": [
    "The two numbers are: (12, 14)\n",
    "The GCD of the numbers are: 2"
   ]
  },
  {
   "cell_type": "code",
   "execution_count": 124,
   "id": "9ecbf528",
   "metadata": {},
   "outputs": [
    {
     "name": "stdout",
     "output_type": "stream",
     "text": [
      "Enter the numbers: 12,14\n",
      "The two numbers are:  (12, 14)\n",
      "The GCD of the numbers are:  2\n"
     ]
    }
   ],
   "source": [
    "def HCF(numbers):\n",
    "    print(\"The two numbers are: \",numbers)\n",
    "    maxNumber = max(numbers)\n",
    "    minNumber = min(numbers)\n",
    "    while maxNumber%minNumber != 0:\n",
    "        tempmin = maxNumber%minNumber\n",
    "        maxNumber = minNumber\n",
    "        minNumber = tempmin\n",
    "    print(\"The GCD of the numbers are: \",minNumber)\n",
    "inp = input(\"Enter the numbers: \")\n",
    "tupleNumbers = tuple(int(i) for i in inp.split(\",\"))\n",
    "HCF(tupleNumbers)"
   ]
  },
  {
   "cell_type": "code",
   "execution_count": null,
   "id": "1e7522a7",
   "metadata": {},
   "outputs": [],
   "source": []
  }
 ],
 "metadata": {
  "kernelspec": {
   "display_name": "Python 3 (ipykernel)",
   "language": "python",
   "name": "python3"
  },
  "language_info": {
   "codemirror_mode": {
    "name": "ipython",
    "version": 3
   },
   "file_extension": ".py",
   "mimetype": "text/x-python",
   "name": "python",
   "nbconvert_exporter": "python",
   "pygments_lexer": "ipython3",
   "version": "3.11.5"
  }
 },
 "nbformat": 4,
 "nbformat_minor": 5
}
