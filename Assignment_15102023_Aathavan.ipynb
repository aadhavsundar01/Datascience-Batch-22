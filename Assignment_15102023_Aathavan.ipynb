{
 "cells": [
  {
   "cell_type": "markdown",
   "id": "9fdead28",
   "metadata": {},
   "source": [
    "# List.append()\n",
    "Signature: list.append(object, /)\n",
    "Docstring: Append object to the end of the list.\n",
    "Type:      builtin_function_or_method"
   ]
  },
  {
   "cell_type": "code",
   "execution_count": 19,
   "id": "7d7f1355",
   "metadata": {},
   "outputs": [
    {
     "name": "stdout",
     "output_type": "stream",
     "text": [
      "Before Appending : [1, 2, 3, 4, 5]\n",
      "After Appending:  [1, 2, 3, 4, 5, 'New Appended List Item']\n"
     ]
    }
   ],
   "source": [
    "List = [1,2,3,4,5]\n",
    "print(\"Before Appending :\", List)\n",
    "List.append(\"New Appended List Item\")\n",
    "print(\"After Appending: \", List)"
   ]
  },
  {
   "cell_type": "markdown",
   "id": "78442fb0",
   "metadata": {},
   "source": [
    "# List.clear()\n",
    "Signature: List.clear()\n",
    "Docstring: Remove all items from list.\n",
    "Type:      builtin_function_or_method"
   ]
  },
  {
   "cell_type": "code",
   "execution_count": 20,
   "id": "bc222be0",
   "metadata": {},
   "outputs": [
    {
     "name": "stdout",
     "output_type": "stream",
     "text": [
      "Before Clear:  [1, 2, 3, 4, 5, 'New Appended List Item']\n",
      "After Clear:  []\n"
     ]
    }
   ],
   "source": [
    "print(\"Before Clear: \", List)\n",
    "List.clear()\n",
    "print(\"After Clear: \", List)"
   ]
  },
  {
   "cell_type": "markdown",
   "id": "a98b7291",
   "metadata": {},
   "source": [
    "# List.copy()\n",
    "Signature: List.copy()\n",
    "Docstring: Return a shallow copy of the list.\n",
    "Type:      builtin_function_or_method"
   ]
  },
  {
   "cell_type": "code",
   "execution_count": 10,
   "id": "9e61cb78",
   "metadata": {},
   "outputs": [
    {
     "name": "stdout",
     "output_type": "stream",
     "text": [
      "Original List:  [1, 2, 3, ['SL1', 2], 'IT5', 'IT6']\n",
      "Copied List:  [1, 2, 3, ['SL1', 2], 'IT5', 'IT6']\n"
     ]
    }
   ],
   "source": [
    "originalList = [1,2,3,[\"SL1\",2],\"IT5\",\"IT6\"]\n",
    "print(\"Original List: \", originalList)\n",
    "copiedList = originalList.copy()\n",
    "print(\"Copied List: \", copiedList)"
   ]
  },
  {
   "cell_type": "markdown",
   "id": "70f233dc",
   "metadata": {},
   "source": [
    "# List.copy()\n",
    "Signature: List.count(value, /)\n",
    "Docstring: Return number of occurrences of value.\n",
    "Type:      builtin_function_or_method"
   ]
  },
  {
   "cell_type": "code",
   "execution_count": 22,
   "id": "322e3fff",
   "metadata": {},
   "outputs": [
    {
     "name": "stdout",
     "output_type": "stream",
     "text": [
      "iphone13Count:  2\n"
     ]
    }
   ],
   "source": [
    "List = ['iphone13','iphone13','iphone14','iphone14pro','iphone15','iphone15pro','iphone15promax','iphone15']\n",
    "countiPhone = List.count('iphone13')\n",
    "print(\"iphone13Count: \",countiPhone)"
   ]
  },
  {
   "cell_type": "markdown",
   "id": "0f8bf54e",
   "metadata": {},
   "source": [
    "# List.extend()\n",
    "Signature: List.extend(iterable, /)\n",
    "Docstring: Extend list by appending elements from the iterable.\n",
    "Type:      builtin_function_or_method"
   ]
  },
  {
   "cell_type": "code",
   "execution_count": 10,
   "id": "650e66de",
   "metadata": {},
   "outputs": [
    {
     "name": "stdout",
     "output_type": "stream",
     "text": [
      "List1:  ['Ferrari', 'RedBull', 'Mercedes']\n",
      "extendedList:  ['Ferrari', 'RedBull', 'Mercedes', 'Leclerc', 'Verstappen', 'Hamilton']\n"
     ]
    }
   ],
   "source": [
    "List1 = ['Ferrari','RedBull','Mercedes']\n",
    "print(\"List1: \",List1)\n",
    "Iterable = ['Leclerc','Verstappen','Hamilton']\n",
    "extendedList = List1.extend(Iterable)\n",
    "print(\"extendedList: \",List1)"
   ]
  },
  {
   "cell_type": "markdown",
   "id": "eb728ce2",
   "metadata": {},
   "source": [
    "# List.index()\n",
    "Signature: List.index(value, start=0, stop=9223372036854775807, /)\n",
    "Docstring:\n",
    "Return first index of value."
   ]
  },
  {
   "cell_type": "code",
   "execution_count": 11,
   "id": "58d57f3a",
   "metadata": {},
   "outputs": [
    {
     "name": "stdout",
     "output_type": "stream",
     "text": [
      "3\n"
     ]
    }
   ],
   "source": [
    "indexL = List1.index('Leclerc')\n",
    "print(indexL)"
   ]
  },
  {
   "cell_type": "markdown",
   "id": "83c59301",
   "metadata": {},
   "source": [
    "# List.insert()\n",
    "Signature: List.insert(index, object, /)\n",
    "Docstring: Insert object before index.\n",
    "Type:      builtin_function_or_method"
   ]
  },
  {
   "cell_type": "code",
   "execution_count": 12,
   "id": "49513fd8",
   "metadata": {},
   "outputs": [
    {
     "name": "stdout",
     "output_type": "stream",
     "text": [
      "['Ferrari', 'RedBull', 'Mercedes', 'Sainz', 'Leclerc', 'Verstappen', 'Hamilton']\n"
     ]
    }
   ],
   "source": [
    "List1.insert(3,'Sainz')\n",
    "print(List1)"
   ]
  },
  {
   "cell_type": "markdown",
   "id": "8a2b72fd",
   "metadata": {},
   "source": [
    "# List.pop()\n",
    "Signature: List.pop(index=-1, /)\n",
    "Docstring:\n",
    "Remove and return item at index (default last)."
   ]
  },
  {
   "cell_type": "code",
   "execution_count": 13,
   "id": "056a3e38",
   "metadata": {},
   "outputs": [
    {
     "name": "stdout",
     "output_type": "stream",
     "text": [
      "Leclerc\n"
     ]
    }
   ],
   "source": [
    "popedItem = List1.pop(4)\n",
    "print(popedItem)"
   ]
  },
  {
   "cell_type": "markdown",
   "id": "f0febeaf",
   "metadata": {},
   "source": [
    "# List.remove()\n",
    "Signature: List1.remove(value, /)\n",
    "Docstring:\n",
    "Remove first occurrence of value."
   ]
  },
  {
   "cell_type": "code",
   "execution_count": 14,
   "id": "382fdb1f",
   "metadata": {},
   "outputs": [
    {
     "name": "stdout",
     "output_type": "stream",
     "text": [
      "Before List.remove:  ['iphone13', 'iphone13', 'iphone14', 'iphone14pro', 'iphone15', 'iphone15pro', 'iphone15promax', 'iphone15']\n",
      "After List.remove:  ['iphone13', 'iphone13', 'iphone14', 'iphone15', 'iphone15pro', 'iphone15promax', 'iphone15']\n"
     ]
    }
   ],
   "source": [
    "print(\"Before List.remove: \", List)\n",
    "List.remove('iphone14pro')\n",
    "print(\"After List.remove: \", List)"
   ]
  },
  {
   "cell_type": "markdown",
   "id": "46cb2440",
   "metadata": {},
   "source": [
    "# List.reverse()\n",
    "Signature: List.reverse()\n",
    "Docstring: Reverse *IN PLACE*.\n",
    "Type:      builtin_function_or_method"
   ]
  },
  {
   "cell_type": "code",
   "execution_count": 15,
   "id": "ce2db68e",
   "metadata": {},
   "outputs": [
    {
     "name": "stdout",
     "output_type": "stream",
     "text": [
      "Before Reverse:  ['Ferrari', 'RedBull', 'Mercedes', 'Sainz', 'Verstappen', 'Hamilton']\n",
      "After Reverse:  ['Hamilton', 'Verstappen', 'Sainz', 'Mercedes', 'RedBull', 'Ferrari']\n"
     ]
    }
   ],
   "source": [
    "print(\"Before Reverse: \", List1)\n",
    "List1.reverse()\n",
    "print(\"After Reverse: \", List1)"
   ]
  },
  {
   "cell_type": "markdown",
   "id": "7027818f",
   "metadata": {},
   "source": [
    "# List.sort()\n",
    "Signature: List.sort(*, key=None, reverse=False)\n",
    "Docstring:\n",
    "Sort the list in ascending order and return None."
   ]
  },
  {
   "cell_type": "code",
   "execution_count": 17,
   "id": "c703ebc8",
   "metadata": {},
   "outputs": [
    {
     "name": "stdout",
     "output_type": "stream",
     "text": [
      "Before Sort:  ['Hamilton', 'Verstappen', 'Sainz', 'Mercedes', 'RedBull', 'Ferrari']\n",
      "After Sort:  ['Ferrari', 'Hamilton', 'Mercedes', 'RedBull', 'Sainz', 'Verstappen']\n"
     ]
    }
   ],
   "source": [
    "print(\"Before Sort: \", List1)\n",
    "List1.sort()\n",
    "print(\"After Sort: \", List1)"
   ]
  },
  {
   "cell_type": "code",
   "execution_count": null,
   "id": "91ae838f",
   "metadata": {},
   "outputs": [],
   "source": []
  }
 ],
 "metadata": {
  "kernelspec": {
   "display_name": "Python 3 (ipykernel)",
   "language": "python",
   "name": "python3"
  },
  "language_info": {
   "codemirror_mode": {
    "name": "ipython",
    "version": 3
   },
   "file_extension": ".py",
   "mimetype": "text/x-python",
   "name": "python",
   "nbconvert_exporter": "python",
   "pygments_lexer": "ipython3",
   "version": "3.11.5"
  }
 },
 "nbformat": 4,
 "nbformat_minor": 5
}
